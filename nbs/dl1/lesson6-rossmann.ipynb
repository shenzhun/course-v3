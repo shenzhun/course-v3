{
  "nbformat": 4,
  "nbformat_minor": 0,
  "metadata": {
    "kernelspec": {
      "name": "python3",
      "display_name": "Python 3"
    },
    "colab": {
      "name": "lesson6-rossmann.ipynb",
      "provenance": []
    },
    "accelerator": "GPU"
  },
  "cells": [
    {
      "cell_type": "code",
      "metadata": {
        "id": "zfn_feV0i0Sj",
        "colab_type": "code",
        "colab": {}
      },
      "source": [
        "%reload_ext autoreload\n",
        "%autoreload 2"
      ],
      "execution_count": 0,
      "outputs": []
    },
    {
      "cell_type": "code",
      "metadata": {
        "id": "lwwJR8YJi0So",
        "colab_type": "code",
        "colab": {}
      },
      "source": [
        "from fastai.tabular import *"
      ],
      "execution_count": 0,
      "outputs": []
    },
    {
      "cell_type": "code",
      "metadata": {
        "id": "pTOnCJeeyVrf",
        "colab_type": "code",
        "colab": {
          "base_uri": "https://localhost:8080/",
          "height": 122
        },
        "outputId": "fca0c260-9fb3-4152-a029-38740475a295"
      },
      "source": [
        "from google.colab import drive\n",
        "drive.mount('/gdrive')\n",
        "\n",
        "gdrive_path = '/gdrive/My Drive/Colab Notebooks/'\n",
        "Config.DEFAULT_CONFIG_PATH = gdrive_path + 'fastai/config.yml'"
      ],
      "execution_count": 4,
      "outputs": [
        {
          "output_type": "stream",
          "text": [
            "Go to this URL in a browser: https://accounts.google.com/o/oauth2/auth?client_id=947318989803-6bn6qk8qdgf4n4g3pfee6491hc0brc4i.apps.googleusercontent.com&redirect_uri=urn%3aietf%3awg%3aoauth%3a2.0%3aoob&response_type=code&scope=email%20https%3a%2f%2fwww.googleapis.com%2fauth%2fdocs.test%20https%3a%2f%2fwww.googleapis.com%2fauth%2fdrive%20https%3a%2f%2fwww.googleapis.com%2fauth%2fdrive.photos.readonly%20https%3a%2f%2fwww.googleapis.com%2fauth%2fpeopleapi.readonly\n",
            "\n",
            "Enter your authorization code:\n",
            "··········\n",
            "Mounted at /gdrive\n"
          ],
          "name": "stdout"
        }
      ]
    },
    {
      "cell_type": "markdown",
      "metadata": {
        "id": "4xkuSV-Wi0Sq",
        "colab_type": "text"
      },
      "source": [
        "# Rossmann"
      ]
    },
    {
      "cell_type": "markdown",
      "metadata": {
        "id": "517DDQBBi0Sr",
        "colab_type": "text"
      },
      "source": [
        "## Data preparation"
      ]
    },
    {
      "cell_type": "markdown",
      "metadata": {
        "id": "wnzWTNX8i0Sr",
        "colab_type": "text"
      },
      "source": [
        "To create the feature-engineered train_clean and test_clean from the Kaggle competition data, run `rossman_data_clean.ipynb`. One important step that deals with time series is this:\n",
        "\n",
        "```python\n",
        "add_datepart(train, \"Date\", drop=False)\n",
        "add_datepart(test, \"Date\", drop=False)\n",
        "```"
      ]
    },
    {
      "cell_type": "code",
      "metadata": {
        "id": "g0eXKa2Ei0Ss",
        "colab_type": "code",
        "colab": {}
      },
      "source": [
        "path = Config().data_path()/'rossmann'\n",
        "train_df = pd.read_pickle(path/'train_clean')"
      ],
      "execution_count": 0,
      "outputs": []
    },
    {
      "cell_type": "code",
      "metadata": {
        "id": "WiX-rocPi0Sv",
        "colab_type": "code",
        "colab": {
          "base_uri": "https://localhost:8080/",
          "height": 419
        },
        "outputId": "5ce96aee-3aa6-48f7-8ab1-840e1727c707"
      },
      "source": [
        "train_df.head().T"
      ],
      "execution_count": 6,
      "outputs": [
        {
          "output_type": "execute_result",
          "data": {
            "text/html": [
              "<div>\n",
              "<style scoped>\n",
              "    .dataframe tbody tr th:only-of-type {\n",
              "        vertical-align: middle;\n",
              "    }\n",
              "\n",
              "    .dataframe tbody tr th {\n",
              "        vertical-align: top;\n",
              "    }\n",
              "\n",
              "    .dataframe thead th {\n",
              "        text-align: right;\n",
              "    }\n",
              "</style>\n",
              "<table border=\"1\" class=\"dataframe\">\n",
              "  <thead>\n",
              "    <tr style=\"text-align: right;\">\n",
              "      <th></th>\n",
              "      <th>0</th>\n",
              "      <th>1</th>\n",
              "      <th>2</th>\n",
              "      <th>3</th>\n",
              "      <th>4</th>\n",
              "    </tr>\n",
              "  </thead>\n",
              "  <tbody>\n",
              "    <tr>\n",
              "      <th>index</th>\n",
              "      <td>0</td>\n",
              "      <td>1</td>\n",
              "      <td>2</td>\n",
              "      <td>3</td>\n",
              "      <td>4</td>\n",
              "    </tr>\n",
              "    <tr>\n",
              "      <th>Store</th>\n",
              "      <td>1</td>\n",
              "      <td>2</td>\n",
              "      <td>3</td>\n",
              "      <td>4</td>\n",
              "      <td>5</td>\n",
              "    </tr>\n",
              "    <tr>\n",
              "      <th>DayOfWeek</th>\n",
              "      <td>5</td>\n",
              "      <td>5</td>\n",
              "      <td>5</td>\n",
              "      <td>5</td>\n",
              "      <td>5</td>\n",
              "    </tr>\n",
              "    <tr>\n",
              "      <th>Date</th>\n",
              "      <td>2015-07-31 00:00:00</td>\n",
              "      <td>2015-07-31 00:00:00</td>\n",
              "      <td>2015-07-31 00:00:00</td>\n",
              "      <td>2015-07-31 00:00:00</td>\n",
              "      <td>2015-07-31 00:00:00</td>\n",
              "    </tr>\n",
              "    <tr>\n",
              "      <th>Sales</th>\n",
              "      <td>5263</td>\n",
              "      <td>6064</td>\n",
              "      <td>8314</td>\n",
              "      <td>13995</td>\n",
              "      <td>4822</td>\n",
              "    </tr>\n",
              "    <tr>\n",
              "      <th>...</th>\n",
              "      <td>...</td>\n",
              "      <td>...</td>\n",
              "      <td>...</td>\n",
              "      <td>...</td>\n",
              "      <td>...</td>\n",
              "    </tr>\n",
              "    <tr>\n",
              "      <th>StateHoliday_bw</th>\n",
              "      <td>0</td>\n",
              "      <td>0</td>\n",
              "      <td>0</td>\n",
              "      <td>0</td>\n",
              "      <td>0</td>\n",
              "    </tr>\n",
              "    <tr>\n",
              "      <th>Promo_bw</th>\n",
              "      <td>5</td>\n",
              "      <td>5</td>\n",
              "      <td>5</td>\n",
              "      <td>5</td>\n",
              "      <td>5</td>\n",
              "    </tr>\n",
              "    <tr>\n",
              "      <th>SchoolHoliday_fw</th>\n",
              "      <td>7</td>\n",
              "      <td>1</td>\n",
              "      <td>5</td>\n",
              "      <td>1</td>\n",
              "      <td>1</td>\n",
              "    </tr>\n",
              "    <tr>\n",
              "      <th>StateHoliday_fw</th>\n",
              "      <td>0</td>\n",
              "      <td>0</td>\n",
              "      <td>0</td>\n",
              "      <td>0</td>\n",
              "      <td>0</td>\n",
              "    </tr>\n",
              "    <tr>\n",
              "      <th>Promo_fw</th>\n",
              "      <td>5</td>\n",
              "      <td>1</td>\n",
              "      <td>5</td>\n",
              "      <td>1</td>\n",
              "      <td>1</td>\n",
              "    </tr>\n",
              "  </tbody>\n",
              "</table>\n",
              "<p>93 rows × 5 columns</p>\n",
              "</div>"
            ],
            "text/plain": [
              "                                    0  ...                    4\n",
              "index                               0  ...                    4\n",
              "Store                               1  ...                    5\n",
              "DayOfWeek                           5  ...                    5\n",
              "Date              2015-07-31 00:00:00  ...  2015-07-31 00:00:00\n",
              "Sales                            5263  ...                 4822\n",
              "...                               ...  ...                  ...\n",
              "StateHoliday_bw                     0  ...                    0\n",
              "Promo_bw                            5  ...                    5\n",
              "SchoolHoliday_fw                    7  ...                    1\n",
              "StateHoliday_fw                     0  ...                    0\n",
              "Promo_fw                            5  ...                    1\n",
              "\n",
              "[93 rows x 5 columns]"
            ]
          },
          "metadata": {
            "tags": []
          },
          "execution_count": 6
        }
      ]
    },
    {
      "cell_type": "code",
      "metadata": {
        "id": "pGxnDQ6li0Sy",
        "colab_type": "code",
        "colab": {
          "base_uri": "https://localhost:8080/",
          "height": 34
        },
        "outputId": "f39fdb18-de78-4b3d-c6d8-618f85014ab4"
      },
      "source": [
        "n = len(train_df); n"
      ],
      "execution_count": 7,
      "outputs": [
        {
          "output_type": "execute_result",
          "data": {
            "text/plain": [
              "844338"
            ]
          },
          "metadata": {
            "tags": []
          },
          "execution_count": 7
        }
      ]
    },
    {
      "cell_type": "markdown",
      "metadata": {
        "id": "tDMYga-Bi0S0",
        "colab_type": "text"
      },
      "source": [
        "### Experimenting with a sample"
      ]
    },
    {
      "cell_type": "code",
      "metadata": {
        "id": "98MKCvg2i0S1",
        "colab_type": "code",
        "colab": {}
      },
      "source": [
        "idx = np.random.permutation(range(n))[:2000]\n",
        "idx.sort()\n",
        "small_train_df = train_df.iloc[idx[:1000]]\n",
        "small_test_df = train_df.iloc[idx[1000:]]\n",
        "small_cont_vars = ['CompetitionDistance', 'Mean_Humidity']\n",
        "small_cat_vars =  ['Store', 'DayOfWeek', 'PromoInterval']\n",
        "small_train_df = small_train_df[small_cat_vars + small_cont_vars + ['Sales']]\n",
        "small_test_df = small_test_df[small_cat_vars + small_cont_vars + ['Sales']]"
      ],
      "execution_count": 0,
      "outputs": []
    },
    {
      "cell_type": "code",
      "metadata": {
        "id": "oU5P-e2Oi0S5",
        "colab_type": "code",
        "colab": {
          "base_uri": "https://localhost:8080/",
          "height": 204
        },
        "outputId": "5da59b94-5c54-410e-9d1f-17e4853a4352"
      },
      "source": [
        "small_train_df.head()"
      ],
      "execution_count": 9,
      "outputs": [
        {
          "output_type": "execute_result",
          "data": {
            "text/html": [
              "<div>\n",
              "<style scoped>\n",
              "    .dataframe tbody tr th:only-of-type {\n",
              "        vertical-align: middle;\n",
              "    }\n",
              "\n",
              "    .dataframe tbody tr th {\n",
              "        vertical-align: top;\n",
              "    }\n",
              "\n",
              "    .dataframe thead th {\n",
              "        text-align: right;\n",
              "    }\n",
              "</style>\n",
              "<table border=\"1\" class=\"dataframe\">\n",
              "  <thead>\n",
              "    <tr style=\"text-align: right;\">\n",
              "      <th></th>\n",
              "      <th>Store</th>\n",
              "      <th>DayOfWeek</th>\n",
              "      <th>PromoInterval</th>\n",
              "      <th>CompetitionDistance</th>\n",
              "      <th>Mean_Humidity</th>\n",
              "      <th>Sales</th>\n",
              "    </tr>\n",
              "  </thead>\n",
              "  <tbody>\n",
              "    <tr>\n",
              "      <th>279</th>\n",
              "      <td>280</td>\n",
              "      <td>5</td>\n",
              "      <td>Mar,Jun,Sept,Dec</td>\n",
              "      <td>18640.0</td>\n",
              "      <td>51</td>\n",
              "      <td>8189</td>\n",
              "    </tr>\n",
              "    <tr>\n",
              "      <th>649</th>\n",
              "      <td>651</td>\n",
              "      <td>5</td>\n",
              "      <td>NaN</td>\n",
              "      <td>200.0</td>\n",
              "      <td>61</td>\n",
              "      <td>8687</td>\n",
              "    </tr>\n",
              "    <tr>\n",
              "      <th>1772</th>\n",
              "      <td>661</td>\n",
              "      <td>4</td>\n",
              "      <td>NaN</td>\n",
              "      <td>2140.0</td>\n",
              "      <td>56</td>\n",
              "      <td>6335</td>\n",
              "    </tr>\n",
              "    <tr>\n",
              "      <th>2035</th>\n",
              "      <td>925</td>\n",
              "      <td>4</td>\n",
              "      <td>Jan,Apr,Jul,Oct</td>\n",
              "      <td>470.0</td>\n",
              "      <td>60</td>\n",
              "      <td>7307</td>\n",
              "    </tr>\n",
              "    <tr>\n",
              "      <th>2291</th>\n",
              "      <td>66</td>\n",
              "      <td>3</td>\n",
              "      <td>Jan,Apr,Jul,Oct</td>\n",
              "      <td>7660.0</td>\n",
              "      <td>73</td>\n",
              "      <td>7050</td>\n",
              "    </tr>\n",
              "  </tbody>\n",
              "</table>\n",
              "</div>"
            ],
            "text/plain": [
              "      Store  DayOfWeek  ... Mean_Humidity  Sales\n",
              "279     280          5  ...            51   8189\n",
              "649     651          5  ...            61   8687\n",
              "1772    661          4  ...            56   6335\n",
              "2035    925          4  ...            60   7307\n",
              "2291     66          3  ...            73   7050\n",
              "\n",
              "[5 rows x 6 columns]"
            ]
          },
          "metadata": {
            "tags": []
          },
          "execution_count": 9
        }
      ]
    },
    {
      "cell_type": "code",
      "metadata": {
        "id": "nO6L9FExi0S7",
        "colab_type": "code",
        "colab": {
          "base_uri": "https://localhost:8080/",
          "height": 204
        },
        "outputId": "5c22a1e9-b098-42bd-f714-eca9b090b56e"
      },
      "source": [
        "small_test_df.head()"
      ],
      "execution_count": 10,
      "outputs": [
        {
          "output_type": "execute_result",
          "data": {
            "text/html": [
              "<div>\n",
              "<style scoped>\n",
              "    .dataframe tbody tr th:only-of-type {\n",
              "        vertical-align: middle;\n",
              "    }\n",
              "\n",
              "    .dataframe tbody tr th {\n",
              "        vertical-align: top;\n",
              "    }\n",
              "\n",
              "    .dataframe thead th {\n",
              "        text-align: right;\n",
              "    }\n",
              "</style>\n",
              "<table border=\"1\" class=\"dataframe\">\n",
              "  <thead>\n",
              "    <tr style=\"text-align: right;\">\n",
              "      <th></th>\n",
              "      <th>Store</th>\n",
              "      <th>DayOfWeek</th>\n",
              "      <th>PromoInterval</th>\n",
              "      <th>CompetitionDistance</th>\n",
              "      <th>Mean_Humidity</th>\n",
              "      <th>Sales</th>\n",
              "    </tr>\n",
              "  </thead>\n",
              "  <tbody>\n",
              "    <tr>\n",
              "      <th>429004</th>\n",
              "      <td>400</td>\n",
              "      <td>1</td>\n",
              "      <td>Jan,Apr,Jul,Oct</td>\n",
              "      <td>70.0</td>\n",
              "      <td>83</td>\n",
              "      <td>7626</td>\n",
              "    </tr>\n",
              "    <tr>\n",
              "      <th>429237</th>\n",
              "      <td>635</td>\n",
              "      <td>1</td>\n",
              "      <td>NaN</td>\n",
              "      <td>27530.0</td>\n",
              "      <td>69</td>\n",
              "      <td>4464</td>\n",
              "    </tr>\n",
              "    <tr>\n",
              "      <th>429883</th>\n",
              "      <td>139</td>\n",
              "      <td>6</td>\n",
              "      <td>Jan,Apr,Jul,Oct</td>\n",
              "      <td>1700.0</td>\n",
              "      <td>73</td>\n",
              "      <td>4100</td>\n",
              "    </tr>\n",
              "    <tr>\n",
              "      <th>430276</th>\n",
              "      <td>535</td>\n",
              "      <td>6</td>\n",
              "      <td>NaN</td>\n",
              "      <td>3570.0</td>\n",
              "      <td>77</td>\n",
              "      <td>5140</td>\n",
              "    </tr>\n",
              "    <tr>\n",
              "      <th>430642</th>\n",
              "      <td>903</td>\n",
              "      <td>6</td>\n",
              "      <td>NaN</td>\n",
              "      <td>7290.0</td>\n",
              "      <td>73</td>\n",
              "      <td>11059</td>\n",
              "    </tr>\n",
              "  </tbody>\n",
              "</table>\n",
              "</div>"
            ],
            "text/plain": [
              "        Store  DayOfWeek  ... Mean_Humidity  Sales\n",
              "429004    400          1  ...            83   7626\n",
              "429237    635          1  ...            69   4464\n",
              "429883    139          6  ...            73   4100\n",
              "430276    535          6  ...            77   5140\n",
              "430642    903          6  ...            73  11059\n",
              "\n",
              "[5 rows x 6 columns]"
            ]
          },
          "metadata": {
            "tags": []
          },
          "execution_count": 10
        }
      ]
    },
    {
      "cell_type": "code",
      "metadata": {
        "id": "Wb_SPOcJi0S9",
        "colab_type": "code",
        "colab": {}
      },
      "source": [
        "categorify = Categorify(small_cat_vars, small_cont_vars)\n",
        "categorify(small_train_df)\n",
        "categorify(small_test_df, test=True)"
      ],
      "execution_count": 0,
      "outputs": []
    },
    {
      "cell_type": "code",
      "metadata": {
        "id": "Fm5hdNJai0S_",
        "colab_type": "code",
        "colab": {
          "base_uri": "https://localhost:8080/",
          "height": 204
        },
        "outputId": "e36c69a2-7385-4b4b-f9be-98d7d0c81fea"
      },
      "source": [
        "small_test_df.head()"
      ],
      "execution_count": 12,
      "outputs": [
        {
          "output_type": "execute_result",
          "data": {
            "text/html": [
              "<div>\n",
              "<style scoped>\n",
              "    .dataframe tbody tr th:only-of-type {\n",
              "        vertical-align: middle;\n",
              "    }\n",
              "\n",
              "    .dataframe tbody tr th {\n",
              "        vertical-align: top;\n",
              "    }\n",
              "\n",
              "    .dataframe thead th {\n",
              "        text-align: right;\n",
              "    }\n",
              "</style>\n",
              "<table border=\"1\" class=\"dataframe\">\n",
              "  <thead>\n",
              "    <tr style=\"text-align: right;\">\n",
              "      <th></th>\n",
              "      <th>Store</th>\n",
              "      <th>DayOfWeek</th>\n",
              "      <th>PromoInterval</th>\n",
              "      <th>CompetitionDistance</th>\n",
              "      <th>Mean_Humidity</th>\n",
              "      <th>Sales</th>\n",
              "    </tr>\n",
              "  </thead>\n",
              "  <tbody>\n",
              "    <tr>\n",
              "      <th>429004</th>\n",
              "      <td>NaN</td>\n",
              "      <td>1</td>\n",
              "      <td>Jan,Apr,Jul,Oct</td>\n",
              "      <td>70.0</td>\n",
              "      <td>83</td>\n",
              "      <td>7626</td>\n",
              "    </tr>\n",
              "    <tr>\n",
              "      <th>429237</th>\n",
              "      <td>NaN</td>\n",
              "      <td>1</td>\n",
              "      <td>NaN</td>\n",
              "      <td>27530.0</td>\n",
              "      <td>69</td>\n",
              "      <td>4464</td>\n",
              "    </tr>\n",
              "    <tr>\n",
              "      <th>429883</th>\n",
              "      <td>139</td>\n",
              "      <td>6</td>\n",
              "      <td>Jan,Apr,Jul,Oct</td>\n",
              "      <td>1700.0</td>\n",
              "      <td>73</td>\n",
              "      <td>4100</td>\n",
              "    </tr>\n",
              "    <tr>\n",
              "      <th>430276</th>\n",
              "      <td>NaN</td>\n",
              "      <td>6</td>\n",
              "      <td>NaN</td>\n",
              "      <td>3570.0</td>\n",
              "      <td>77</td>\n",
              "      <td>5140</td>\n",
              "    </tr>\n",
              "    <tr>\n",
              "      <th>430642</th>\n",
              "      <td>NaN</td>\n",
              "      <td>6</td>\n",
              "      <td>NaN</td>\n",
              "      <td>7290.0</td>\n",
              "      <td>73</td>\n",
              "      <td>11059</td>\n",
              "    </tr>\n",
              "  </tbody>\n",
              "</table>\n",
              "</div>"
            ],
            "text/plain": [
              "       Store DayOfWeek  ... Mean_Humidity  Sales\n",
              "429004   NaN         1  ...            83   7626\n",
              "429237   NaN         1  ...            69   4464\n",
              "429883   139         6  ...            73   4100\n",
              "430276   NaN         6  ...            77   5140\n",
              "430642   NaN         6  ...            73  11059\n",
              "\n",
              "[5 rows x 6 columns]"
            ]
          },
          "metadata": {
            "tags": []
          },
          "execution_count": 12
        }
      ]
    },
    {
      "cell_type": "code",
      "metadata": {
        "id": "7fzY4xXBi0TC",
        "colab_type": "code",
        "colab": {
          "base_uri": "https://localhost:8080/",
          "height": 34
        },
        "outputId": "6868ab2c-0bfc-4d4e-c662-615bb7d86098"
      },
      "source": [
        "small_train_df.PromoInterval.cat.categories"
      ],
      "execution_count": 13,
      "outputs": [
        {
          "output_type": "execute_result",
          "data": {
            "text/plain": [
              "Index(['Feb,May,Aug,Nov', 'Jan,Apr,Jul,Oct', 'Mar,Jun,Sept,Dec'], dtype='object')"
            ]
          },
          "metadata": {
            "tags": []
          },
          "execution_count": 13
        }
      ]
    },
    {
      "cell_type": "code",
      "metadata": {
        "id": "UMcJN59Di0TE",
        "colab_type": "code",
        "colab": {
          "base_uri": "https://localhost:8080/",
          "height": 119
        },
        "outputId": "5c38fdac-bb8b-4cff-9066-18906e9a2456"
      },
      "source": [
        "small_train_df['PromoInterval'].cat.codes[:5]"
      ],
      "execution_count": 14,
      "outputs": [
        {
          "output_type": "execute_result",
          "data": {
            "text/plain": [
              "279     2\n",
              "649    -1\n",
              "1772   -1\n",
              "2035    1\n",
              "2291    1\n",
              "dtype: int8"
            ]
          },
          "metadata": {
            "tags": []
          },
          "execution_count": 14
        }
      ]
    },
    {
      "cell_type": "code",
      "metadata": {
        "id": "jDhJX-hai0TH",
        "colab_type": "code",
        "colab": {}
      },
      "source": [
        "fill_missing = FillMissing(small_cat_vars, small_cont_vars)\n",
        "fill_missing(small_train_df)\n",
        "fill_missing(small_test_df, test=True)"
      ],
      "execution_count": 0,
      "outputs": []
    },
    {
      "cell_type": "code",
      "metadata": {
        "id": "p3T7xTaui0TJ",
        "colab_type": "code",
        "colab": {
          "base_uri": "https://localhost:8080/",
          "height": 235
        },
        "outputId": "b618ea6c-99a5-4173-83dc-d94063d7ef09"
      },
      "source": [
        "small_train_df[small_train_df['CompetitionDistance_na'] == True]"
      ],
      "execution_count": 16,
      "outputs": [
        {
          "output_type": "execute_result",
          "data": {
            "text/html": [
              "<div>\n",
              "<style scoped>\n",
              "    .dataframe tbody tr th:only-of-type {\n",
              "        vertical-align: middle;\n",
              "    }\n",
              "\n",
              "    .dataframe tbody tr th {\n",
              "        vertical-align: top;\n",
              "    }\n",
              "\n",
              "    .dataframe thead th {\n",
              "        text-align: right;\n",
              "    }\n",
              "</style>\n",
              "<table border=\"1\" class=\"dataframe\">\n",
              "  <thead>\n",
              "    <tr style=\"text-align: right;\">\n",
              "      <th></th>\n",
              "      <th>Store</th>\n",
              "      <th>DayOfWeek</th>\n",
              "      <th>PromoInterval</th>\n",
              "      <th>CompetitionDistance</th>\n",
              "      <th>Mean_Humidity</th>\n",
              "      <th>Sales</th>\n",
              "      <th>CompetitionDistance_na</th>\n",
              "    </tr>\n",
              "  </thead>\n",
              "  <tbody>\n",
              "    <tr>\n",
              "      <th>46173</th>\n",
              "      <td>291</td>\n",
              "      <td>6</td>\n",
              "      <td>NaN</td>\n",
              "      <td>2290.0</td>\n",
              "      <td>78</td>\n",
              "      <td>3982</td>\n",
              "      <td>True</td>\n",
              "    </tr>\n",
              "    <tr>\n",
              "      <th>72741</th>\n",
              "      <td>622</td>\n",
              "      <td>5</td>\n",
              "      <td>NaN</td>\n",
              "      <td>2290.0</td>\n",
              "      <td>61</td>\n",
              "      <td>4926</td>\n",
              "      <td>True</td>\n",
              "    </tr>\n",
              "    <tr>\n",
              "      <th>245672</th>\n",
              "      <td>622</td>\n",
              "      <td>2</td>\n",
              "      <td>NaN</td>\n",
              "      <td>2290.0</td>\n",
              "      <td>89</td>\n",
              "      <td>3369</td>\n",
              "      <td>True</td>\n",
              "    </tr>\n",
              "    <tr>\n",
              "      <th>288601</th>\n",
              "      <td>291</td>\n",
              "      <td>3</td>\n",
              "      <td>NaN</td>\n",
              "      <td>2290.0</td>\n",
              "      <td>86</td>\n",
              "      <td>8418</td>\n",
              "      <td>True</td>\n",
              "    </tr>\n",
              "    <tr>\n",
              "      <th>389659</th>\n",
              "      <td>291</td>\n",
              "      <td>3</td>\n",
              "      <td>NaN</td>\n",
              "      <td>2290.0</td>\n",
              "      <td>65</td>\n",
              "      <td>9377</td>\n",
              "      <td>True</td>\n",
              "    </tr>\n",
              "    <tr>\n",
              "      <th>398100</th>\n",
              "      <td>879</td>\n",
              "      <td>1</td>\n",
              "      <td>Feb,May,Aug,Nov</td>\n",
              "      <td>2290.0</td>\n",
              "      <td>86</td>\n",
              "      <td>5459</td>\n",
              "      <td>True</td>\n",
              "    </tr>\n",
              "  </tbody>\n",
              "</table>\n",
              "</div>"
            ],
            "text/plain": [
              "       Store DayOfWeek  ... Sales  CompetitionDistance_na\n",
              "46173    291         6  ...  3982                    True\n",
              "72741    622         5  ...  4926                    True\n",
              "245672   622         2  ...  3369                    True\n",
              "288601   291         3  ...  8418                    True\n",
              "389659   291         3  ...  9377                    True\n",
              "398100   879         1  ...  5459                    True\n",
              "\n",
              "[6 rows x 7 columns]"
            ]
          },
          "metadata": {
            "tags": []
          },
          "execution_count": 16
        }
      ]
    },
    {
      "cell_type": "markdown",
      "metadata": {
        "id": "aB3OtjWXi0TL",
        "colab_type": "text"
      },
      "source": [
        "### Preparing full data set"
      ]
    },
    {
      "cell_type": "code",
      "metadata": {
        "id": "5nZsmesni0TM",
        "colab_type": "code",
        "colab": {}
      },
      "source": [
        "train_df = pd.read_pickle(path/'train_clean')\n",
        "test_df = pd.read_pickle(path/'test_clean')"
      ],
      "execution_count": 0,
      "outputs": []
    },
    {
      "cell_type": "code",
      "metadata": {
        "id": "CE8KKJTWi0TP",
        "colab_type": "code",
        "colab": {
          "base_uri": "https://localhost:8080/",
          "height": 34
        },
        "outputId": "9f7c3603-4c95-44c0-cf12-8ab3464ea574"
      },
      "source": [
        "len(train_df),len(test_df)"
      ],
      "execution_count": 18,
      "outputs": [
        {
          "output_type": "execute_result",
          "data": {
            "text/plain": [
              "(844338, 41088)"
            ]
          },
          "metadata": {
            "tags": []
          },
          "execution_count": 18
        }
      ]
    },
    {
      "cell_type": "code",
      "metadata": {
        "id": "aINoS6I5i0TR",
        "colab_type": "code",
        "colab": {}
      },
      "source": [
        "procs=[FillMissing, Categorify, Normalize]"
      ],
      "execution_count": 0,
      "outputs": []
    },
    {
      "cell_type": "code",
      "metadata": {
        "id": "0DN9IiN5i0TU",
        "colab_type": "code",
        "colab": {}
      },
      "source": [
        "cat_vars = ['Store', 'DayOfWeek', 'Year', 'Month', 'Day', 'StateHoliday', 'CompetitionMonthsOpen',\n",
        "    'Promo2Weeks', 'StoreType', 'Assortment', 'PromoInterval', 'CompetitionOpenSinceYear', 'Promo2SinceYear',\n",
        "    'State', 'Week', 'Events', 'Promo_fw', 'Promo_bw', 'StateHoliday_fw', 'StateHoliday_bw',\n",
        "    'SchoolHoliday_fw', 'SchoolHoliday_bw']\n",
        "\n",
        "cont_vars = ['CompetitionDistance', 'Max_TemperatureC', 'Mean_TemperatureC', 'Min_TemperatureC',\n",
        "   'Max_Humidity', 'Mean_Humidity', 'Min_Humidity', 'Max_Wind_SpeedKm_h', \n",
        "   'Mean_Wind_SpeedKm_h', 'CloudCover', 'trend', 'trend_DE',\n",
        "   'AfterStateHoliday', 'BeforeStateHoliday', 'Promo', 'SchoolHoliday']"
      ],
      "execution_count": 0,
      "outputs": []
    },
    {
      "cell_type": "code",
      "metadata": {
        "id": "O5t5oOt8i0TW",
        "colab_type": "code",
        "colab": {}
      },
      "source": [
        "dep_var = 'Sales'\n",
        "df = train_df[cat_vars + cont_vars + [dep_var,'Date']].copy()"
      ],
      "execution_count": 0,
      "outputs": []
    },
    {
      "cell_type": "code",
      "metadata": {
        "id": "0HXifTwti0Tb",
        "colab_type": "code",
        "colab": {
          "base_uri": "https://localhost:8080/",
          "height": 34
        },
        "outputId": "8459beec-a183-4dc9-cb3d-fe4af2286e3b"
      },
      "source": [
        "test_df['Date'].min(), test_df['Date'].max()"
      ],
      "execution_count": 22,
      "outputs": [
        {
          "output_type": "execute_result",
          "data": {
            "text/plain": [
              "(Timestamp('2015-08-01 00:00:00'), Timestamp('2015-09-17 00:00:00'))"
            ]
          },
          "metadata": {
            "tags": []
          },
          "execution_count": 22
        }
      ]
    },
    {
      "cell_type": "code",
      "metadata": {
        "id": "AOw-Oejti0Td",
        "colab_type": "code",
        "colab": {
          "base_uri": "https://localhost:8080/",
          "height": 34
        },
        "outputId": "535faa07-3a43-4d14-d89b-ea54ae95117a"
      },
      "source": [
        "cut = train_df['Date'][(train_df['Date'] == train_df['Date'][len(test_df)])].index.max()\n",
        "cut"
      ],
      "execution_count": 23,
      "outputs": [
        {
          "output_type": "execute_result",
          "data": {
            "text/plain": [
              "41395"
            ]
          },
          "metadata": {
            "tags": []
          },
          "execution_count": 23
        }
      ]
    },
    {
      "cell_type": "code",
      "metadata": {
        "id": "hLAPUIRGi0Tg",
        "colab_type": "code",
        "colab": {}
      },
      "source": [
        "valid_idx = range(cut)"
      ],
      "execution_count": 0,
      "outputs": []
    },
    {
      "cell_type": "code",
      "metadata": {
        "id": "Q7ZswldKi0Th",
        "colab_type": "code",
        "colab": {
          "base_uri": "https://localhost:8080/",
          "height": 119
        },
        "outputId": "7ac739ac-13ec-4242-d53f-4b127189d835"
      },
      "source": [
        "df[dep_var].head()"
      ],
      "execution_count": 25,
      "outputs": [
        {
          "output_type": "execute_result",
          "data": {
            "text/plain": [
              "0     5263\n",
              "1     6064\n",
              "2     8314\n",
              "3    13995\n",
              "4     4822\n",
              "Name: Sales, dtype: int64"
            ]
          },
          "metadata": {
            "tags": []
          },
          "execution_count": 25
        }
      ]
    },
    {
      "cell_type": "code",
      "metadata": {
        "id": "_zB8GrKOi0Tj",
        "colab_type": "code",
        "colab": {}
      },
      "source": [
        "data = (TabularList.from_df(df, path=path, cat_names=cat_vars, cont_names=cont_vars, procs=procs,)\n",
        "                .split_by_idx(valid_idx)\n",
        "                .label_from_df(cols=dep_var, label_cls=FloatList, log=True)\n",
        "                .add_test(TabularList.from_df(test_df, path=path, cat_names=cat_vars, cont_names=cont_vars))\n",
        "                .databunch())"
      ],
      "execution_count": 0,
      "outputs": []
    },
    {
      "cell_type": "code",
      "metadata": {
        "id": "J86VSId7i0Tl",
        "colab_type": "code",
        "colab": {
          "base_uri": "https://localhost:8080/",
          "height": 197
        },
        "outputId": "4c9344f4-3104-48e3-e2a5-74308ada9d7d"
      },
      "source": [
        "doc(FloatList)"
      ],
      "execution_count": 27,
      "outputs": [
        {
          "output_type": "display_data",
          "data": {
            "text/html": [
              "<h2 id=\"FloatList\" class=\"doc_header\"><code>class</code> <code>FloatList</code><a href=\"https://github.com/fastai/fastai/blob/master/fastai/data_block.py#L434\" class=\"source_link\" style=\"float:right\">[source]</a><a class=\"source_link\" data-toggle=\"collapse\" data-target=\"#FloatList-pytest\" style=\"float:right; padding-right:10px\">[test]</a></h2><blockquote><p><code>FloatList</code>(<strong><code>items</code></strong>:<code>Iterator</code>, <strong><code>log</code></strong>:<code>bool</code>=<strong><em><code>False</code></em></strong>, <strong><code>classes</code></strong>:<code>Collection</code>=<strong><em><code>None</code></em></strong>, <strong>**<code>kwargs</code></strong>) :: <a href=\"https://docs.fast.ai/data_block.html#ItemList\"><code>ItemList</code></a></p>\n",
              "</blockquote>\n",
              "<div class=\"collapse\" id=\"FloatList-pytest\"><div class=\"card card-body pytest_card\"><a type=\"button\" data-toggle=\"collapse\" data-target=\"#FloatList-pytest\" class=\"close\" aria-label=\"Close\"><span aria-hidden=\"true\">&times;</span></a><p>No tests found for <code>FloatList</code>. To contribute a test please refer to <a href=\"/dev/test.html\">this guide</a> and <a href=\"https://forums.fast.ai/t/improving-expanding-functional-tests/32929\">this discussion</a>.</p></div></div><p><a href=\"https://docs.fast.ai/data_block.html#ItemList\"><code>ItemList</code></a> suitable for storing the floats in items for regression. Will add a <code>log</code> if this flag is <code>True</code>.</p>\n",
              "<p><a href=\"https://docs.fast.ai/data_block.html#FloatList\" target=\"_blank\" rel=\"noreferrer noopener\">Show in docs</a></p>\n"
            ],
            "text/plain": [
              "<IPython.core.display.HTML object>"
            ]
          },
          "metadata": {
            "tags": []
          }
        }
      ]
    },
    {
      "cell_type": "markdown",
      "metadata": {
        "id": "s5dl7WfLi0Tn",
        "colab_type": "text"
      },
      "source": [
        "## Model"
      ]
    },
    {
      "cell_type": "code",
      "metadata": {
        "id": "E9HXi-Gli0Tp",
        "colab_type": "code",
        "colab": {}
      },
      "source": [
        "max_log_y = np.log(np.max(train_df['Sales'])*1.2)\n",
        "y_range = torch.tensor([0, max_log_y], device=defaults.device)"
      ],
      "execution_count": 0,
      "outputs": []
    },
    {
      "cell_type": "code",
      "metadata": {
        "id": "LqixC-jFi0Tr",
        "colab_type": "code",
        "colab": {}
      },
      "source": [
        "learn = tabular_learner(data, layers=[1000,500], ps=[0.001,0.01], emb_drop=0.04, \n",
        "                        y_range=y_range, metrics=exp_rmspe)"
      ],
      "execution_count": 0,
      "outputs": []
    },
    {
      "cell_type": "code",
      "metadata": {
        "id": "0l9UGucKi0Tt",
        "colab_type": "code",
        "colab": {
          "base_uri": "https://localhost:8080/",
          "height": 714
        },
        "outputId": "dffd7035-8b13-4570-c566-b8ee7de7dfee"
      },
      "source": [
        "learn.model"
      ],
      "execution_count": 30,
      "outputs": [
        {
          "output_type": "execute_result",
          "data": {
            "text/plain": [
              "TabularModel(\n",
              "  (embeds): ModuleList(\n",
              "    (0): Embedding(1116, 81)\n",
              "    (1): Embedding(8, 5)\n",
              "    (2): Embedding(4, 3)\n",
              "    (3): Embedding(13, 7)\n",
              "    (4): Embedding(32, 11)\n",
              "    (5): Embedding(3, 3)\n",
              "    (6): Embedding(26, 10)\n",
              "    (7): Embedding(27, 10)\n",
              "    (8): Embedding(5, 4)\n",
              "    (9): Embedding(4, 3)\n",
              "    (10): Embedding(4, 3)\n",
              "    (11): Embedding(24, 9)\n",
              "    (12): Embedding(9, 5)\n",
              "    (13): Embedding(13, 7)\n",
              "    (14): Embedding(53, 15)\n",
              "    (15): Embedding(22, 9)\n",
              "    (16): Embedding(7, 5)\n",
              "    (17): Embedding(7, 5)\n",
              "    (18): Embedding(4, 3)\n",
              "    (19): Embedding(4, 3)\n",
              "    (20): Embedding(9, 5)\n",
              "    (21): Embedding(9, 5)\n",
              "    (22): Embedding(3, 3)\n",
              "    (23): Embedding(3, 3)\n",
              "  )\n",
              "  (emb_drop): Dropout(p=0.04, inplace=False)\n",
              "  (bn_cont): BatchNorm1d(16, eps=1e-05, momentum=0.1, affine=True, track_running_stats=True)\n",
              "  (layers): Sequential(\n",
              "    (0): Linear(in_features=233, out_features=1000, bias=True)\n",
              "    (1): ReLU(inplace=True)\n",
              "    (2): BatchNorm1d(1000, eps=1e-05, momentum=0.1, affine=True, track_running_stats=True)\n",
              "    (3): Dropout(p=0.001, inplace=False)\n",
              "    (4): Linear(in_features=1000, out_features=500, bias=True)\n",
              "    (5): ReLU(inplace=True)\n",
              "    (6): BatchNorm1d(500, eps=1e-05, momentum=0.1, affine=True, track_running_stats=True)\n",
              "    (7): Dropout(p=0.01, inplace=False)\n",
              "    (8): Linear(in_features=500, out_features=1, bias=True)\n",
              "  )\n",
              ")"
            ]
          },
          "metadata": {
            "tags": []
          },
          "execution_count": 30
        }
      ]
    },
    {
      "cell_type": "code",
      "metadata": {
        "id": "8Q9moS41i0Tu",
        "colab_type": "code",
        "colab": {
          "base_uri": "https://localhost:8080/",
          "height": 34
        },
        "outputId": "9945dc5c-3bda-4042-ffc9-8f992dd95228"
      },
      "source": [
        "len(data.train_ds.cont_names)"
      ],
      "execution_count": 31,
      "outputs": [
        {
          "output_type": "execute_result",
          "data": {
            "text/plain": [
              "16"
            ]
          },
          "metadata": {
            "tags": []
          },
          "execution_count": 31
        }
      ]
    },
    {
      "cell_type": "code",
      "metadata": {
        "id": "EF7w5oVJi0Tw",
        "colab_type": "code",
        "colab": {
          "base_uri": "https://localhost:8080/",
          "height": 34
        },
        "outputId": "009d6abf-7b98-4bad-c660-16d340d68bb4"
      },
      "source": [
        "learn.lr_find()"
      ],
      "execution_count": 32,
      "outputs": [
        {
          "output_type": "display_data",
          "data": {
            "text/html": [
              ""
            ],
            "text/plain": [
              "<IPython.core.display.HTML object>"
            ]
          },
          "metadata": {
            "tags": []
          }
        },
        {
          "output_type": "stream",
          "text": [
            "LR Finder is complete, type {learner_name}.recorder.plot() to see the graph.\n"
          ],
          "name": "stdout"
        }
      ]
    },
    {
      "cell_type": "code",
      "metadata": {
        "id": "OY-h2tSRi0Ty",
        "colab_type": "code",
        "colab": {
          "base_uri": "https://localhost:8080/",
          "height": 279
        },
        "outputId": "0ab5b094-bc90-4c2c-fd39-4df7e43b2f50"
      },
      "source": [
        "learn.recorder.plot()"
      ],
      "execution_count": 33,
      "outputs": [
        {
          "output_type": "display_data",
          "data": {
            "image/png": "[encoded data removed]",
            "text/plain": [
              "<Figure size 432x288 with 1 Axes>"
            ]
          },
          "metadata": {
            "tags": []
          }
        }
      ]
    },
    {
      "cell_type": "code",
      "metadata": {
        "id": "UiD3RkPyi0T1",
        "colab_type": "code",
        "colab": {
          "base_uri": "https://localhost:8080/",
          "height": 204
        },
        "outputId": "b5ca544c-ec17-411f-f4e7-0bb651d4c32c"
      },
      "source": [
        "learn.fit_one_cycle(5, 1e-3, wd=0.2)"
      ],
      "execution_count": 34,
      "outputs": [
        {
          "output_type": "display_data",
          "data": {
            "text/html": [
              "<table border=\"1\" class=\"dataframe\">\n",
              "  <thead>\n",
              "    <tr style=\"text-align: left;\">\n",
              "      <th>epoch</th>\n",
              "      <th>train_loss</th>\n",
              "      <th>valid_loss</th>\n",
              "      <th>exp_rmspe</th>\n",
              "      <th>time</th>\n",
              "    </tr>\n",
              "  </thead>\n",
              "  <tbody>\n",
              "    <tr>\n",
              "      <td>0</td>\n",
              "      <td>0.027231</td>\n",
              "      <td>0.037022</td>\n",
              "      <td>0.172366</td>\n",
              "      <td>02:31</td>\n",
              "    </tr>\n",
              "    <tr>\n",
              "      <td>1</td>\n",
              "      <td>0.019734</td>\n",
              "      <td>0.019883</td>\n",
              "      <td>0.133039</td>\n",
              "      <td>02:32</td>\n",
              "    </tr>\n",
              "    <tr>\n",
              "      <td>2</td>\n",
              "      <td>0.016755</td>\n",
              "      <td>0.019118</td>\n",
              "      <td>0.117361</td>\n",
              "      <td>02:32</td>\n",
              "    </tr>\n",
              "    <tr>\n",
              "      <td>3</td>\n",
              "      <td>0.013011</td>\n",
              "      <td>0.016345</td>\n",
              "      <td>0.114400</td>\n",
              "      <td>02:32</td>\n",
              "    </tr>\n",
              "    <tr>\n",
              "      <td>4</td>\n",
              "      <td>0.010733</td>\n",
              "      <td>0.011799</td>\n",
              "      <td>0.103750</td>\n",
              "      <td>02:32</td>\n",
              "    </tr>\n",
              "  </tbody>\n",
              "</table>"
            ],
            "text/plain": [
              "<IPython.core.display.HTML object>"
            ]
          },
          "metadata": {
            "tags": []
          }
        }
      ]
    },
    {
      "cell_type": "code",
      "metadata": {
        "id": "dK03MOFri0T3",
        "colab_type": "code",
        "colab": {}
      },
      "source": [
        "learn.save('1')"
      ],
      "execution_count": 0,
      "outputs": []
    },
    {
      "cell_type": "code",
      "metadata": {
        "id": "Fd-McJpai0T5",
        "colab_type": "code",
        "colab": {
          "base_uri": "https://localhost:8080/",
          "height": 279
        },
        "outputId": "7a7bed6a-a334-4bb6-842b-9cbedf272b94"
      },
      "source": [
        "learn.recorder.plot_losses(skip_start=10000)"
      ],
      "execution_count": 36,
      "outputs": [
        {
          "output_type": "display_data",
          "data": {
            "image/png": "[encoded data removed]",
            "text/plain": [
              "<Figure size 432x288 with 1 Axes>"
            ]
          },
          "metadata": {
            "tags": []
          }
        }
      ]
    },
    {
      "cell_type": "code",
      "metadata": {
        "id": "xS4ubMSIi0T7",
        "colab_type": "code",
        "colab": {}
      },
      "source": [
        "learn.load('1');"
      ],
      "execution_count": 0,
      "outputs": []
    },
    {
      "cell_type": "code",
      "metadata": {
        "id": "1h7JGVThi0T8",
        "colab_type": "code",
        "colab": {
          "base_uri": "https://localhost:8080/",
          "height": 204
        },
        "outputId": "cfca01bf-a162-48f3-e120-0061eb7f5569"
      },
      "source": [
        "learn.fit_one_cycle(5, 3e-4)"
      ],
      "execution_count": 38,
      "outputs": [
        {
          "output_type": "display_data",
          "data": {
            "text/html": [
              "<table border=\"1\" class=\"dataframe\">\n",
              "  <thead>\n",
              "    <tr style=\"text-align: left;\">\n",
              "      <th>epoch</th>\n",
              "      <th>train_loss</th>\n",
              "      <th>valid_loss</th>\n",
              "      <th>exp_rmspe</th>\n",
              "      <th>time</th>\n",
              "    </tr>\n",
              "  </thead>\n",
              "  <tbody>\n",
              "    <tr>\n",
              "      <td>0</td>\n",
              "      <td>0.011905</td>\n",
              "      <td>0.012105</td>\n",
              "      <td>0.111498</td>\n",
              "      <td>02:32</td>\n",
              "    </tr>\n",
              "    <tr>\n",
              "      <td>1</td>\n",
              "      <td>0.011996</td>\n",
              "      <td>0.022013</td>\n",
              "      <td>0.110114</td>\n",
              "      <td>02:32</td>\n",
              "    </tr>\n",
              "    <tr>\n",
              "      <td>2</td>\n",
              "      <td>0.010787</td>\n",
              "      <td>0.052189</td>\n",
              "      <td>0.131353</td>\n",
              "      <td>02:33</td>\n",
              "    </tr>\n",
              "    <tr>\n",
              "      <td>3</td>\n",
              "      <td>0.009827</td>\n",
              "      <td>0.013767</td>\n",
              "      <td>0.113307</td>\n",
              "      <td>02:33</td>\n",
              "    </tr>\n",
              "    <tr>\n",
              "      <td>4</td>\n",
              "      <td>0.008801</td>\n",
              "      <td>0.016599</td>\n",
              "      <td>0.122201</td>\n",
              "      <td>02:33</td>\n",
              "    </tr>\n",
              "  </tbody>\n",
              "</table>"
            ],
            "text/plain": [
              "<IPython.core.display.HTML object>"
            ]
          },
          "metadata": {
            "tags": []
          }
        }
      ]
    },
    {
      "cell_type": "code",
      "metadata": {
        "id": "41JifDjei0T_",
        "colab_type": "code",
        "colab": {},
        "outputId": "7c476f0f-2e11-4b3e-ffc4-d1727c8a5330"
      },
      "source": [
        "learn.fit_one_cycle(5, 3e-4)"
      ],
      "execution_count": 0,
      "outputs": [
        {
          "output_type": "display_data",
          "data": {
            "text/html": [
              "Total time: 11:31 <p><table style='width:300px; margin-bottom:10px'>\n",
              "  <tr>\n",
              "    <th>epoch</th>\n",
              "    <th>train_loss</th>\n",
              "    <th>valid_loss</th>\n",
              "    <th>exp_rmspe</th>\n",
              "  </tr>\n",
              "  <tr>\n",
              "    <th>1</th>\n",
              "    <th>0.011840</th>\n",
              "    <th>0.013236</th>\n",
              "    <th>0.110483</th>\n",
              "  </tr>\n",
              "  <tr>\n",
              "    <th>2</th>\n",
              "    <th>0.010765</th>\n",
              "    <th>0.057664</th>\n",
              "    <th>0.129586</th>\n",
              "  </tr>\n",
              "  <tr>\n",
              "    <th>3</th>\n",
              "    <th>0.010101</th>\n",
              "    <th>0.042744</th>\n",
              "    <th>0.111584</th>\n",
              "  </tr>\n",
              "  <tr>\n",
              "    <th>4</th>\n",
              "    <th>0.008820</th>\n",
              "    <th>0.116893</th>\n",
              "    <th>0.135458</th>\n",
              "  </tr>\n",
              "  <tr>\n",
              "    <th>5</th>\n",
              "    <th>0.009144</th>\n",
              "    <th>0.017969</th>\n",
              "    <th>0.126323</th>\n",
              "  </tr>\n",
              "</table>\n"
            ],
            "text/plain": [
              "<IPython.core.display.HTML object>"
            ]
          },
          "metadata": {
            "tags": []
          }
        }
      ]
    },
    {
      "cell_type": "markdown",
      "metadata": {
        "id": "JLabDd5Si0UC",
        "colab_type": "text"
      },
      "source": [
        "(10th place in the competition was 0.108)"
      ]
    },
    {
      "cell_type": "code",
      "metadata": {
        "id": "bpnDhtDCi0UD",
        "colab_type": "code",
        "colab": {
          "base_uri": "https://localhost:8080/",
          "height": 255
        },
        "outputId": "516ce5a2-486d-4c62-da24-5e8975734b4e"
      },
      "source": [
        "test_preds=learn.get_preds(DatasetType.Test)\n",
        "test_df[\"Sales\"]=np.exp(test_preds[0].data).numpy().T[0]\n",
        "test_df[[\"Id\",\"Sales\"]]=test_df[[\"Id\",\"Sales\"]].astype(\"int\")\n",
        "test_df[[\"Id\",\"Sales\"]].to_csv(Config.data_path()/f\"/rossmann/rossmann_submission.csv\",index=False)"
      ],
      "execution_count": 45,
      "outputs": [
        {
          "output_type": "display_data",
          "data": {
            "text/html": [
              ""
            ],
            "text/plain": [
              "<IPython.core.display.HTML object>"
            ]
          },
          "metadata": {
            "tags": []
          }
        },
        {
          "output_type": "stream",
          "text": [
            "       index     Id  Store  ...  StateHoliday_fw Promo_fw         Sales\n",
            "0          0      1      1  ...              0.0      1.0   4460.691406\n",
            "1          1      2      3  ...              0.0      1.0   6949.122559\n",
            "2          2      3      7  ...              0.0      1.0   9081.421875\n",
            "3          3      4      8  ...              0.0      1.0   7009.385254\n",
            "4          4      5      9  ...              0.0      1.0   7349.009766\n",
            "...      ...    ...    ...  ...              ...      ...           ...\n",
            "41083  41083  41084   1111  ...              0.0      5.0   2903.575439\n",
            "41084  41084  41085   1112  ...              0.0      5.0   7290.122559\n",
            "41085  41085  41086   1113  ...              0.0      5.0   6191.267090\n",
            "41086  41086  41087   1114  ...              0.0      5.0  21782.144531\n",
            "41087  41087  41088   1115  ...              0.0      5.0   7446.267578\n",
            "\n",
            "[41088 rows x 93 columns]\n"
          ],
          "name": "stdout"
        }
      ]
    }
  ]
}